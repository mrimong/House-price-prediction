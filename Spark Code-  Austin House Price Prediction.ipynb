{
 "cells": [
  {
   "cell_type": "markdown",
   "metadata": {
    "id": "oTwEQqISbsLL"
   },
   "source": [
    "## House price prediction"
   ]
  },
  {
   "cell_type": "markdown",
   "metadata": {
    "id": "wDcsVj12BTw_"
   },
   "source": [
    "# **NLP**"
   ]
  },
  {
   "cell_type": "markdown",
   "metadata": {
    "id": "pdGLGS3opcox"
   },
   "source": [
    "**SPARK SESSION**"
   ]
  },
  {
   "cell_type": "code",
   "execution_count": null,
   "metadata": {
    "colab": {
     "base_uri": "https://localhost:8080/"
    },
    "executionInfo": {
     "elapsed": 19212,
     "status": "ok",
     "timestamp": 1717713564356,
     "user": {
      "displayName": "Mrimon (Nemo) Guha",
      "userId": "17002090688478565716"
     },
     "user_tz": 420
    },
    "id": "Gej4p1wmtKOz",
    "outputId": "191f60eb-0117-4c34-a55e-3601c70f385d"
   },
   "outputs": [
    {
     "name": "stdout",
     "output_type": "stream",
     "text": [
      "Mounted at /content/drive\n"
     ]
    }
   ],
   "source": [
    "from google.colab import drive\n",
    "drive.mount('/content/drive')"
   ]
  },
  {
   "cell_type": "code",
   "execution_count": null,
   "metadata": {
    "colab": {
     "base_uri": "https://localhost:8080/"
    },
    "executionInfo": {
     "elapsed": 15456,
     "status": "ok",
     "timestamp": 1717714780559,
     "user": {
      "displayName": "Mrimon (Nemo) Guha",
      "userId": "17002090688478565716"
     },
     "user_tz": 420
    },
    "id": "PjhcrEeDpcXl",
    "outputId": "efd22ef6-6a41-472f-d33a-3f4f69bb8cda"
   },
   "outputs": [
    {
     "name": "stdout",
     "output_type": "stream",
     "text": [
      "Requirement already satisfied: pyspark in /usr/local/lib/python3.10/dist-packages (3.5.1)\n",
      "Requirement already satisfied: py4j==0.10.9.7 in /usr/local/lib/python3.10/dist-packages (from pyspark) (0.10.9.7)\n"
     ]
    }
   ],
   "source": [
    "# Install PySpark\n",
    "!pip install pyspark"
   ]
  },
  {
   "cell_type": "code",
   "execution_count": null,
   "metadata": {
    "id": "6qyF0iNix2qr"
   },
   "outputs": [],
   "source": [
    "# Import SparkSession from PySpark\n",
    "from pyspark.sql import SparkSession\n",
    "from pyspark.sql.functions import col\n",
    "from pyspark.sql import functions as F\n",
    "from pyspark.ml.feature import StopWordsRemover, NGram, Tokenizer, IDF, CountVectorizer\n",
    "from pyspark.ml.feature import StringIndexer, VectorAssembler, Imputer\n",
    "from pyspark.ml.regression import GBTRegressor\n",
    "from pyspark.ml import Pipeline\n",
    "from pyspark.ml.evaluation import RegressionEvaluator\n",
    "from pyspark.sql.types import StringType, DoubleType, StructType, StructField\n",
    "from sklearn.model_selection import train_test_split\n",
    "from sklearn.metrics import mean_squared_error, r2_score\n",
    "from xgboost import XGBRegressor\n",
    "import xgboost as xgb\n",
    "from xgboost.spark import SparkXGBRegressor"
   ]
  },
  {
   "cell_type": "code",
   "execution_count": null,
   "metadata": {
    "colab": {
     "base_uri": "https://localhost:8080/"
    },
    "executionInfo": {
     "elapsed": 1262,
     "status": "ok",
     "timestamp": 1717728506643,
     "user": {
      "displayName": "Mrimon (Nemo) Guha",
      "userId": "17002090688478565716"
     },
     "user_tz": 420
    },
    "id": "LxnZIfECuSuG",
    "outputId": "08d614a1-d303-460d-c38e-96aa8481a02c"
   },
   "outputs": [
    {
     "name": "stdout",
     "output_type": "stream",
     "text": [
      "+--------------------+--------------------+--------------------+------------------+--------------------+------------------+--------------------+--------------------+------------------+-----------------+----------+-------------+-------------+-------------+--------+-------------+-------------+----------+-------------+---------------+---------------+--------------------+---------------+-----------------+-----------+--------------------------+-------------------+--------------------+--------------------------+---------------------+-----------------------+-------------------+----------------------+-----------+--------------+-------------------+----------------------+------------------+------------------+------------------+------------------+-------------+------------------------+--------------------+--------------------+------------+--------------------+\n",
      "|                zpid|                city|       streetAddress|           zipcode|         description|          latitude|           longitude|     propertyTaxRate|      garageSpaces|   hasAssociation|hasCooling|    hasGarage|   hasHeating|       hasSpa| hasView|     homeType|parkingSpaces| yearBuilt|  latestPrice|numPriceChanges|latest_saledate|    latest_salemonth|latest_saleyear|latestPriceSource|numOfPhotos|numOfAccessibilityFeatures|    numOfAppliances|numOfParkingFeatures|numOfPatioAndPorchFeatures|numOfSecurityFeatures|numOfWaterfrontFeatures|numOfWindowFeatures|numOfCommunityFeatures|lotSizeSqFt|livingAreaSqFt|numOfPrimarySchools|numOfElementarySchools|numOfMiddleSchools|  numOfHighSchools| avgSchoolDistance|   avgSchoolRating|avgSchoolSize|MedianStudentsPerTeacher|      numOfBathrooms|       numOfBedrooms|numOfStories|           homeImage|\n",
      "+--------------------+--------------------+--------------------+------------------+--------------------+------------------+--------------------+--------------------+------------------+-----------------+----------+-------------+-------------+-------------+--------+-------------+-------------+----------+-------------+---------------+---------------+--------------------+---------------+-----------------+-----------+--------------------------+-------------------+--------------------+--------------------------+---------------------+-----------------------+-------------------+----------------------+-----------+--------------+-------------------+----------------------+------------------+------------------+------------------+------------------+-------------+------------------------+--------------------+--------------------+------------+--------------------+\n",
      "|           111373431|        pflugerville|14424 Lake Victor Dr|             78660|14424 Lake Victor...|              NULL|                NULL|                NULL|              NULL|             NULL|      NULL|         NULL|         NULL|         NULL|    NULL|         NULL|         NULL|      NULL|         NULL|           NULL|           NULL|                NULL|           NULL|             NULL|       NULL|                      NULL|               NULL|                NULL|                      NULL|                 NULL|                   NULL|               NULL|                  NULL|       NULL|          NULL|               NULL|                  NULL|              NULL|              NULL|              NULL|              NULL|         NULL|                    NULL|                NULL|                NULL|        NULL|                NULL|\n",
      "|The Zestimate for...|417. The Rent Zes...|           195/mo. \"| 30.43063163757324|  -97.66307830810548|              1.98|                   2|                True|              True|             True|      True|        False|        False|Single Family|       2|         2012|     305000.0|         5|   2019-09-02|              9|           2019|Coldwell Banker U...|             39|                0|          5|                         2|                  1|                   3|                         0|                    1|                      0|             6011.0|                2601.0|          1|             0|                  1|                     1|1.2666666666666668|2.6666666666666665|              1063|                14|          3.0|                       4|                   2|111373431_ffce268...|        NULL|                NULL|\n",
      "|           120900430|        pflugerville|  1104 Strickling Dr|             78660|Absolutely GORGEO...| 30.43267250061035|  -97.66169738769531|                1.98|                 2|             True|      True|         True|         True|        False|   False|Single Family|            2|      2013|     295000.0|              1|     2020-10-13|                  10|           2020|   Agent Provided|         29|                         0|                  1|                   2|                         0|                    0|                      0|                  0|                     0|     6185.0|        1768.0|                  1|                     0|                 1|                 1|               1.4|2.6666666666666665|         1063|                      14|                 2.0|                   4|           1|120900430_8255c12...|\n",
      "|          2084491383|        pflugerville| 1408 Fort Dessau Rd|             78660|Under constructio...|30.409748077392567|   -97.6397705078125|                1.98|                 0|             True|      True|        False|         True|        False|   False|Single Family|            0|      2018|     256125.0|              1|     2019-07-31|                   7|           2019|   Agent Provided|          2|                         0|                  4|                   1|                         0|                    1|                      0|                  0|                     0|     7840.0|        1478.0|                  0|                     2|                 1|                 1|               1.2|               3.0|         1108|                      14|                 2.0|                   3|           1|2084491383_a2ad64...|\n",
      "|           120901374|        pflugerville|  1025 Strickling Dr|             78660|Absolutely darlin...|30.432111740112305|  -97.66165924072266|                1.98|                 2|             True|      True|         True|         True|        False|   False|Single Family|            2|      2013|     240000.0|              4|     2018-08-08|                   8|           2018|   Agent Provided|          9|                         0|                  0|                   2|                         0|                    0|                      0|                  0|                     0|     6098.0|        1678.0|                  1|                     0|                 1|                 1|               1.4|2.6666666666666665|         1063|                      14|                 2.0|                   3|           1|120901374_b469367...|\n",
      "|            60134862|        pflugerville|15005 Donna Jane ...|             78660|Brimming with app...|30.437368392944336|   -97.6568603515625|                1.98|                 0|             True|      True|        False|         True|        False|   False|Single Family|            0|      2002|     239900.0|              3|     2018-10-31|                  10|           2018|   Agent Provided|         27|                         0|                  0|                   1|                         0|                    0|                      0|                  0|                     0|     6708.0|        2132.0|                  1|                     0|                 1|                 1|1.1333333333333335|               4.0|         1223|                      14|                 3.0|                   3|           2|60134862_b1a48a3d...|\n",
      "|          2080105342|        pflugerville|14908 Spring Hill Ln|             78660|14908 Spring Hill...|              NULL|                NULL|                NULL|              NULL|             NULL|      NULL|         NULL|         NULL|         NULL|    NULL|         NULL|         NULL|      NULL|         NULL|           NULL|           NULL|                NULL|           NULL|             NULL|       NULL|                      NULL|               NULL|                NULL|                      NULL|                 NULL|                   NULL|               NULL|                  NULL|       NULL|          NULL|               NULL|                  NULL|              NULL|              NULL|              NULL|              NULL|         NULL|                    NULL|                NULL|                NULL|        NULL|                NULL|\n",
      "|The Zestimate for...|              210. \"|  30.437774658203125|-97.65618133544922|                1.98|                 2|                True|                True|              True|             True|     False|        False|Single Family|            2|    2020|     309045.0|            2|2020-08-05|            8|           2020|Broker Provided|                   2|              0|                3|          1|                         2|                  2|                   0|                         0|                    0|                 5161.0|             1446.0|                     1|          0|             1|                  1|    1.0666666666666669|               4.0|              1223|                14|               2.0|            3|                       1|2080105342_553d16...|                NULL|        NULL|                NULL|\n",
      "|           241932337|        pflugerville|    14009 Cantata Ln|             78660|This well-maintai...|              NULL|                NULL|                NULL|              NULL|             NULL|      NULL|         NULL|         NULL|         NULL|    NULL|         NULL|         NULL|      NULL|         NULL|           NULL|           NULL|                NULL|           NULL|             NULL|       NULL|                      NULL|               NULL|                NULL|                      NULL|                 NULL|                   NULL|               NULL|                  NULL|       NULL|          NULL|               NULL|                  NULL|              NULL|              NULL|              NULL|              NULL|         NULL|                    NULL|                NULL|                NULL|        NULL|                NULL|\n",
      "|Contact Tanya Ker...|  30.414684295654297|  -97.64339447021484|              1.98|                   0|              True|               False|               False|             False|            False|     False|Single Family|            0|         2016|315000.0|            2|   2020-06-11|         6|         2020|Broker Provided|             36|                   0|              3|                1|          0|                         0|                  0|                   0|                         0|              12196.8|                 2432.0|                  1|                     0|          1|             1| 1.2333333333333334|    3.6666666666666665|              1051|                12|               3.0|                 4|            2|    241932337_78e2a51...|                NULL|                NULL|        NULL|                NULL|\n",
      "|            60134835|        pflugerville|  15009 Drusillas Dr|             78660|Wonderful home, f...| 30.43940353393555|  -97.65803527832031|                1.98|                 0|             True|      True|        False|         True|        False|   False|Single Family|            0|      2002|     219900.0|              2|     2018-10-10|                  10|           2018|   Agent Provided|         21|                         0|                  3|                   1|                         0|                    0|                      0|                  0|                     0|     5140.0|        1422.0|                  1|                     0|                 1|                 1|1.1666666666666667|               4.0|         1223|                      14|                 3.0|                   3|           2|60134835_47efc517...|\n",
      "|            60134833|        pflugerville|1104 Traci Michel...|             78660|Solid 3 bed 2 bat...|30.439096450805664|    -97.657958984375|                1.98|                 0|             True|      True|        False|         True|        False|   False|Single Family|            0|      2002|     225000.0|              1|     2019-09-19|                   9|           2019|   Agent Provided|         16|                         0|                  2|                   1|                         1|                    1|                      0|                  0|                     0|     3811.0|        1870.0|                  1|                     0|                 1|                 1|1.1666666666666667|               4.0|         1223|                      14|                 2.0|                   3|           2|60134833_aa596c71...|\n",
      "|            83827468|           del valle|6808 Plains Crest Dr|             78617|Beautiful 3 bed 2...|30.160701751708984|  -97.63812255859376|                1.98|                 2|             True|      True|         True|         True|        False|   False|Single Family|            2|      2013|     194800.0|              1|     2018-09-11|                   9|           2018|   Agent Provided|         23|                         0|                  3|                   2|                         0|                    0|                      0|                  0|                     0|     5183.0|        1422.0|                  1|                     0|                 1|                 1|               1.2|               3.0|         1615|                      14|                 3.0|                   3|           2|83827468_017e0605...|\n",
      "|           241932327|        pflugerville|     1100 Oblique Dr|             78660|3 hr showing noti...|30.414934158325195|   -97.6432876586914|                1.98|                 2|             True|      True|         True|         True|        False|   False|Single Family|            2|      2016|     279900.0|              2|     2020-08-28|                   8|           2020|   Agent Provided|         32|                         0|                  3|                   2|                         0|                    3|                      0|                  0|                     0|     5401.0|        1580.0|                  1|                     0|                 1|                 1|               1.2|3.6666666666666665|         1051|                      12|                 2.0|                   3|           1|241932327_1443918...|\n",
      "|           241930967|           del valle|12612 Stoney Ridg...|             78617|12612 Stoney Ridg...|              NULL|                NULL|                NULL|              NULL|             NULL|      NULL|         NULL|         NULL|         NULL|    NULL|         NULL|         NULL|      NULL|         NULL|           NULL|           NULL|                NULL|           NULL|             NULL|       NULL|                      NULL|               NULL|                NULL|                      NULL|                 NULL|                   NULL|               NULL|                  NULL|       NULL|          NULL|               NULL|                  NULL|              NULL|              NULL|              NULL|              NULL|         NULL|                    NULL|                NULL|                NULL|        NULL|                NULL|\n",
      "|The Zestimate for...|179. The Rent Zes...|           800/mo. \"|30.159337997436523|  -97.63335418701172|              1.98|                   0|                True|              True|            False|      True|        False|        False|Single Family|       0|         2016|     250000.0|         1|   2019-04-12|              4|           2019|      Agent Provided|             37|                0|          4|                         1|                  0|                   0|                         0|                    0|                      0|             4965.0|                2281.0|          1|             0|                  1|                     1|               1.2|               3.0|              1615|                14|          3.0|                       3|                   2|241930967_25b1167...|        NULL|                NULL|\n",
      "|            69808966|           del valle|12813 Buenos Aire...|             78617|\"Single Level 200...| Move-In Condition| Vacant/Lockbox :...| September Closin...|30.167768478393555|-97.6234359741211|      1.98|            2|         True|         True|    True|         True|        False|      True|Single Family|              2|           2005|            239900.0|              9|       2020-09-05|          9|                      2020|Buttross Properties|                  28|                         0|                    4|                      2|                  1|                     0|          0|             0|                  0|                6011.0|            1762.0|                 1|                 0|                 1|            1|      0.6333333333333333|   3.333333333333333|                1626|          14|                 2.0|\n",
      "|            64520966|           del valle|11601 Arrowmound ...|             78617|Wonderful home in...| 30.15428352355957|  -97.65058135986328|                1.98|                 0|             True|      True|        False|         True|        False|   False|Single Family|            0|      2003|     200000.0|              1|     2018-12-15|                  12|           2018|   Agent Provided|         16|                         0|                  4|                   1|                         0|                    0|                      0|                  0|                     0|     6926.0|        1326.0|                  1|                     0|                 1|                 1|1.8333333333333333|               3.0|         1615|                      14|                 2.0|                   3|           1|64520966_afb0bd83...|\n",
      "|            83813460|           del valle| 12221 Ferrystone Cv|             78617|12221 Ferrystone ...|              NULL|                NULL|                NULL|              NULL|             NULL|      NULL|         NULL|         NULL|         NULL|    NULL|         NULL|         NULL|      NULL|         NULL|           NULL|           NULL|                NULL|           NULL|             NULL|       NULL|                      NULL|               NULL|                NULL|                      NULL|                 NULL|                   NULL|               NULL|                  NULL|       NULL|          NULL|               NULL|                  NULL|              NULL|              NULL|              NULL|              NULL|         NULL|                    NULL|                NULL|                NULL|        NULL|                NULL|\n",
      "|The Zestimate for...|403. The Rent Zes...|           750/mo. \"| 30.15972137451172|   -97.6362762451172|              1.98|                   2|                True|              True|             True|      True|        False|        False|Single Family|       2|         2010|     131679.0|         5|   2020-08-18|              8|           2020|     Broker Provided|             54|                0|          2|                         2|                  1|                   1|                         0|                    0|                      0|            10846.0|                1655.0|          1|             0|                  1|                     1|1.2333333333333334|               3.0|              1615|                14|          3.0|                       3|                   2|83813460_6249601d...|        NULL|                NULL|\n",
      "+--------------------+--------------------+--------------------+------------------+--------------------+------------------+--------------------+--------------------+------------------+-----------------+----------+-------------+-------------+-------------+--------+-------------+-------------+----------+-------------+---------------+---------------+--------------------+---------------+-----------------+-----------+--------------------------+-------------------+--------------------+--------------------------+---------------------+-----------------------+-------------------+----------------------+-----------+--------------+-------------------+----------------------+------------------+------------------+------------------+------------------+-------------+------------------------+--------------------+--------------------+------------+--------------------+\n",
      "only showing top 20 rows\n",
      "\n"
     ]
    }
   ],
   "source": [
    "\n",
    "# Initialize a Spark session\n",
    "spark = SparkSession.builder \\\n",
    "    .appName(\"AustinHousingData\") \\\n",
    "    .getOrCreate()\n",
    "\n",
    "# Read the CSV file\n",
    "df = spark.read.csv('/content/drive/My Drive/423BigDataAnalytics/3.14-sparkers Final project/archive/austinHousingData.csv', header=True, inferSchema=True)\n",
    "\n",
    "# Show the first few rows\n",
    "df.show()\n"
   ]
  },
  {
   "cell_type": "code",
   "execution_count": null,
   "metadata": {
    "colab": {
     "base_uri": "https://localhost:8080/"
    },
    "executionInfo": {
     "elapsed": 1062,
     "status": "ok",
     "timestamp": 1717728509605,
     "user": {
      "displayName": "Mrimon (Nemo) Guha",
      "userId": "17002090688478565716"
     },
     "user_tz": 420
    },
    "id": "m-FHWS7UqS8M",
    "outputId": "c18f781d-1aeb-4b35-9597-1ae2c5e03e25"
   },
   "outputs": [
    {
     "name": "stdout",
     "output_type": "stream",
     "text": [
      "+-------+--------------------+\n",
      "|summary|         latestPrice|\n",
      "+-------+--------------------+\n",
      "|  count|               15012|\n",
      "|   mean|  468959.24565499066|\n",
      "| stddev|   439251.9324367748|\n",
      "|    min| \"\"Best Architect...|\n",
      "|    max|                True|\n",
      "+-------+--------------------+\n",
      "\n"
     ]
    }
   ],
   "source": [
    "# Describe the 'latestPrice' column\n",
    "df.select(\"latestPrice\").describe().show()"
   ]
  },
  {
   "cell_type": "code",
   "execution_count": null,
   "metadata": {
    "colab": {
     "base_uri": "https://localhost:8080/"
    },
    "executionInfo": {
     "elapsed": 3243,
     "status": "ok",
     "timestamp": 1717728512847,
     "user": {
      "displayName": "Mrimon (Nemo) Guha",
      "userId": "17002090688478565716"
     },
     "user_tz": 420
    },
    "id": "QTju3C8-xuuH",
    "outputId": "31b4b90a-913e-400a-faeb-cc9e6cea7511"
   },
   "outputs": [
    {
     "name": "stdout",
     "output_type": "stream",
     "text": [
      "Number of low price outliers: 0\n",
      "Number of high price outliers: 784\n",
      "Proportion of outliers using IQR method: 3.64%\n"
     ]
    }
   ],
   "source": [
    "# Calculate quartiles and IQR using PySpark functions\n",
    "quartiles = df.selectExpr('percentile_approx(latestPrice, array(0.25, 0.75)) as quartiles').collect()[0].quartiles\n",
    "Q1, Q3 = quartiles[0], quartiles[1]\n",
    "IQR = Q3 - Q1\n",
    "\n",
    "# Calculate lower and upper bounds\n",
    "lower_bound = Q1 - 1.5 * IQR\n",
    "upper_bound = Q3 + 1.5 * IQR\n",
    "\n",
    "# Filter outliers using PySpark DataFrame API\n",
    "outliers_df = df.filter((col('latestPrice') < lower_bound) | (col('latestPrice') > upper_bound))\n",
    "\n",
    "# Count the number of low and high price outliers\n",
    "low_price_outliers = outliers_df.filter(col('latestPrice') < lower_bound).count()\n",
    "high_price_outliers = outliers_df.filter(col('latestPrice') > upper_bound).count()\n",
    "\n",
    "# Print the number of outliers and proportion\n",
    "print(f\"Number of low price outliers: {low_price_outliers}\")\n",
    "print(f\"Number of high price outliers: {high_price_outliers}\")\n",
    "print(f'Proportion of outliers using IQR method: {(low_price_outliers + high_price_outliers) / df.count() * 100:.2f}%')\n"
   ]
  },
  {
   "cell_type": "code",
   "execution_count": null,
   "metadata": {
    "id": "iBrPknx0zB-N"
   },
   "outputs": [],
   "source": [
    "df = df.withColumn('pricePerSqFt', F.col('latestPrice') / F.col('livingAreaSqFt'))\n"
   ]
  },
  {
   "cell_type": "code",
   "execution_count": null,
   "metadata": {
    "id": "IBUn-d0C6gLw"
   },
   "outputs": [],
   "source": [
    "\n",
    "\n",
    "# Combine the number of schools into a new column numOfSchools\n",
    "df = df.withColumn('numOfSchools',\n",
    "                   F.col('numOfPrimarySchools') +\n",
    "                   F.col('numOfElementarySchools') +\n",
    "                   F.col('numOfMiddleSchools') +\n",
    "                   F.col('numOfHighSchools'))\n",
    "\n",
    "# Drop the individual school type columns\n",
    "df = df.drop('numOfPrimarySchools', 'numOfElementarySchools', 'numOfMiddleSchools', 'numOfHighSchools')\n"
   ]
  },
  {
   "cell_type": "code",
   "execution_count": null,
   "metadata": {
    "colab": {
     "base_uri": "https://localhost:8080/"
    },
    "executionInfo": {
     "elapsed": 2,
     "status": "ok",
     "timestamp": 1717728514595,
     "user": {
      "displayName": "Mrimon (Nemo) Guha",
      "userId": "17002090688478565716"
     },
     "user_tz": 420
    },
    "id": "fOCFbI3-AGUQ",
    "outputId": "1827753f-32ed-443f-f966-4845b3f44145"
   },
   "outputs": [
    {
     "name": "stdout",
     "output_type": "stream",
     "text": [
      "root\n",
      " |-- zpid: string (nullable = true)\n",
      " |-- city: string (nullable = true)\n",
      " |-- streetAddress: string (nullable = true)\n",
      " |-- zipcode: string (nullable = true)\n",
      " |-- description: string (nullable = true)\n",
      " |-- latitude: string (nullable = true)\n",
      " |-- longitude: string (nullable = true)\n",
      " |-- propertyTaxRate: string (nullable = true)\n",
      " |-- garageSpaces: string (nullable = true)\n",
      " |-- hasAssociation: string (nullable = true)\n",
      " |-- hasCooling: string (nullable = true)\n",
      " |-- hasGarage: string (nullable = true)\n",
      " |-- hasHeating: string (nullable = true)\n",
      " |-- hasSpa: string (nullable = true)\n",
      " |-- hasView: string (nullable = true)\n",
      " |-- homeType: string (nullable = true)\n",
      " |-- parkingSpaces: string (nullable = true)\n",
      " |-- yearBuilt: string (nullable = true)\n",
      " |-- latestPrice: string (nullable = true)\n",
      " |-- numPriceChanges: string (nullable = true)\n",
      " |-- latest_saledate: string (nullable = true)\n",
      " |-- latest_salemonth: string (nullable = true)\n",
      " |-- latest_saleyear: string (nullable = true)\n",
      " |-- latestPriceSource: string (nullable = true)\n",
      " |-- numOfPhotos: string (nullable = true)\n",
      " |-- numOfAccessibilityFeatures: string (nullable = true)\n",
      " |-- numOfAppliances: string (nullable = true)\n",
      " |-- numOfParkingFeatures: string (nullable = true)\n",
      " |-- numOfPatioAndPorchFeatures: string (nullable = true)\n",
      " |-- numOfSecurityFeatures: string (nullable = true)\n",
      " |-- numOfWaterfrontFeatures: string (nullable = true)\n",
      " |-- numOfWindowFeatures: string (nullable = true)\n",
      " |-- numOfCommunityFeatures: string (nullable = true)\n",
      " |-- lotSizeSqFt: string (nullable = true)\n",
      " |-- livingAreaSqFt: string (nullable = true)\n",
      " |-- avgSchoolDistance: string (nullable = true)\n",
      " |-- avgSchoolRating: string (nullable = true)\n",
      " |-- avgSchoolSize: string (nullable = true)\n",
      " |-- MedianStudentsPerTeacher: string (nullable = true)\n",
      " |-- numOfBathrooms: string (nullable = true)\n",
      " |-- numOfBedrooms: string (nullable = true)\n",
      " |-- numOfStories: string (nullable = true)\n",
      " |-- homeImage: string (nullable = true)\n",
      " |-- pricePerSqFt: double (nullable = true)\n",
      " |-- numOfSchools: double (nullable = true)\n",
      "\n",
      "Columns in the DataFrame:\n",
      "zpid\n",
      "city\n",
      "streetAddress\n",
      "zipcode\n",
      "description\n",
      "latitude\n",
      "longitude\n",
      "propertyTaxRate\n",
      "garageSpaces\n",
      "hasAssociation\n",
      "hasCooling\n",
      "hasGarage\n",
      "hasHeating\n",
      "hasSpa\n",
      "hasView\n",
      "homeType\n",
      "parkingSpaces\n",
      "yearBuilt\n",
      "latestPrice\n",
      "numPriceChanges\n",
      "latest_saledate\n",
      "latest_salemonth\n",
      "latest_saleyear\n",
      "latestPriceSource\n",
      "numOfPhotos\n",
      "numOfAccessibilityFeatures\n",
      "numOfAppliances\n",
      "numOfParkingFeatures\n",
      "numOfPatioAndPorchFeatures\n",
      "numOfSecurityFeatures\n",
      "numOfWaterfrontFeatures\n",
      "numOfWindowFeatures\n",
      "numOfCommunityFeatures\n",
      "lotSizeSqFt\n",
      "livingAreaSqFt\n",
      "avgSchoolDistance\n",
      "avgSchoolRating\n",
      "avgSchoolSize\n",
      "MedianStudentsPerTeacher\n",
      "numOfBathrooms\n",
      "numOfBedrooms\n",
      "numOfStories\n",
      "homeImage\n",
      "pricePerSqFt\n",
      "numOfSchools\n"
     ]
    }
   ],
   "source": [
    "df.printSchema()\n",
    "\n",
    "# Show the column names\n",
    "print(\"Columns in the DataFrame:\")\n",
    "for col in df.columns:\n",
    "    print(col)"
   ]
  },
  {
   "cell_type": "code",
   "execution_count": null,
   "metadata": {
    "id": "k7ET3Pyk7Q-k"
   },
   "outputs": [],
   "source": [
    "\n",
    "# Drop columns from the DataFrame\n",
    "df_combined = df.drop('streetAddress', 'description', 'homeImage', 'latest_saledate')\n",
    "\n",
    "# Cast the 'latestPrice' column to DoubleType\n",
    "df_combined = df_combined.withColumn(\"latestPrice\", F.col(\"latestPrice\").cast(\"double\"))\n",
    "\n",
    "# Define categorical columns\n",
    "categorical_cols = ['city', 'homeType', 'latestPriceSource']\n",
    "\n",
    "# Create StringIndexers for encoding categorical columns\n",
    "indexers = [StringIndexer(inputCol=col, outputCol=col + \"_index\", handleInvalid='keep') for col in categorical_cols]\n",
    "\n",
    "# Create a VectorAssembler to combine features into a single vector\n",
    "assembler_inputs = [col + \"_index\" for col in categorical_cols]\n",
    "assembler = VectorAssembler(inputCols=assembler_inputs, outputCol=\"features\")\n",
    "\n",
    "# Define the target variable\n",
    "target = 'latestPrice'\n",
    "\n",
    "# Impute missing values in 'latestPrice' column with a default value\n",
    "imputer = Imputer(strategy='mean', inputCols=[target], outputCols=[target + \"_imputed\"])\n",
    "df_combined = imputer.fit(df_combined).transform(df_combined)\n",
    "\n",
    "# Create a GBTRegressor model with increased maxBins parameter\n",
    "gbt = GBTRegressor(labelCol=target + \"_imputed\", featuresCol=\"features\", maxBins=4000)\n",
    "\n",
    "# Define the pipeline\n",
    "pipeline = Pipeline(stages=indexers + [assembler, gbt])\n",
    "\n",
    "# Fit the pipeline to the data\n",
    "pipeline_model = pipeline.fit(df_combined)\n",
    "\n",
    "# Get feature importances from the GBT model\n",
    "importances = pipeline_model.stages[-1].featureImportances.toArray()\n",
    "\n",
    "# Create a DataFrame for feature importances with explicit schema definition\n",
    "schema = StructType([\n",
    "    StructField(\"feature\", StringType(), nullable=False),\n",
    "    StructField(\"importance\", DoubleType(), nullable=False)\n",
    "])\n"
   ]
  },
  {
   "cell_type": "code",
   "execution_count": null,
   "metadata": {
    "colab": {
     "base_uri": "https://localhost:8080/"
    },
    "executionInfo": {
     "elapsed": 1282,
     "status": "ok",
     "timestamp": 1717728566524,
     "user": {
      "displayName": "Mrimon (Nemo) Guha",
      "userId": "17002090688478565716"
     },
     "user_tz": 420
    },
    "id": "eC-nn6j3DyR0",
    "outputId": "dd70dd2e-1dc5-44de-eff9-cff5b6ce2ea6"
   },
   "outputs": [
    {
     "name": "stdout",
     "output_type": "stream",
     "text": [
      "+--------------------+-------------------+\n",
      "|             feature|         importance|\n",
      "+--------------------+-------------------+\n",
      "|latestPriceSource...|0.49492727705107686|\n",
      "|      homeType_index|0.42813118163104463|\n",
      "|          city_index|0.07694154131787839|\n",
      "+--------------------+-------------------+\n",
      "\n"
     ]
    }
   ],
   "source": [
    "# Convert importances to Python float type\n",
    "importances_float = [float(val) for val in importances]\n",
    "\n",
    "# Create a DataFrame for feature importances with explicit schema definition\n",
    "feature_importances_df = spark.createDataFrame(zip(assembler_inputs, importances_float), schema)\n",
    "\n",
    "# Sort by importance\n",
    "feature_importances_df = feature_importances_df.orderBy(F.col(\"importance\").desc())\n",
    "\n",
    "# Display the top 10 important features\n",
    "feature_importances_df.show(3)\n"
   ]
  },
  {
   "cell_type": "markdown",
   "metadata": {
    "id": "CqvdNdMnjRcU"
   },
   "source": [
    "Inference: Price source, home type, city are some important features of the dataset"
   ]
  },
  {
   "cell_type": "code",
   "execution_count": null,
   "metadata": {
    "colab": {
     "base_uri": "https://localhost:8080/"
    },
    "executionInfo": {
     "elapsed": 4695,
     "status": "ok",
     "timestamp": 1717728910069,
     "user": {
      "displayName": "Mrimon (Nemo) Guha",
      "userId": "17002090688478565716"
     },
     "user_tz": 420
    },
    "id": "NbN7lg6oExEh",
    "outputId": "f92648cc-3bd0-45f0-a9b8-51fb1c7713ae"
   },
   "outputs": [
    {
     "name": "stdout",
     "output_type": "stream",
     "text": [
      "Mean Squared Error: 65985339392.0\n",
      "R-squared Score: 0.6438405427785324\n"
     ]
    }
   ],
   "source": [
    "from pyspark.sql.functions import col\n",
    "from pyspark.sql.types import FloatType\n",
    "from sklearn.model_selection import train_test_split\n",
    "from sklearn.metrics import mean_squared_error, r2_score\n",
    "from xgboost import XGBRegressor\n",
    "\n",
    "selected_features = ['livingAreaSqFt', 'propertyTaxRate', 'numOfAppliances', 'lotSizeSqFt',\n",
    "                     'numOfBathrooms', 'longitude', 'latestPriceSource', 'numOfWindowFeatures',\n",
    "                     'avgSchoolDistance', 'latest_saleyear']\n",
    "\n",
    "df_selected = df.select(selected_features + ['latestPrice'])\n",
    "\n",
    "# Convert selected features to numeric type\n",
    "for feature in selected_features:\n",
    "    df_selected = df_selected.withColumn(feature, col(feature).cast(FloatType()))\n",
    "\n",
    "# Convert target to numeric type and handle NaN/infinite values\n",
    "df_selected = df_selected.withColumn('latestPrice', col('latestPrice').cast(FloatType()))\n",
    "df_selected = df_selected.filter(~col('latestPrice').isNull() & ~col('latestPrice').isin([float('nan'), float('inf'), -float('inf')]))\n",
    "\n",
    "# Split the data into features (X) and target (y)\n",
    "X = df_selected.select(selected_features).toPandas()\n",
    "y = df_selected.select('latestPrice').toPandas()\n",
    "\n",
    "# Split the data into training and testing sets\n",
    "X_train, X_test, y_train, y_test = train_test_split(X, y, test_size=0.2, random_state=42)\n",
    "\n",
    "# Initialize and train XGBoost with the selected features\n",
    "model = XGBRegressor(eval_metric='rmse')\n",
    "model.fit(X_train, y_train)\n",
    "\n",
    "# Make predictions on the test set\n",
    "y_pred = model.predict(X_test)\n",
    "\n",
    "# Evaluate the model's performance\n",
    "mse = mean_squared_error(y_test, y_pred)\n",
    "r2 = r2_score(y_test, y_pred)\n",
    "\n",
    "print(f\"Mean Squared Error: {mse}\")\n",
    "print(f\"R-squared Score: {r2}\")\n"
   ]
  },
  {
   "cell_type": "code",
   "execution_count": null,
   "metadata": {
    "id": "Ldk9DlLklDB6"
   },
   "outputs": [],
   "source": [
    "from xgboost.spark import SparkXGBClassifier"
   ]
  },
  {
   "cell_type": "code",
   "execution_count": null,
   "metadata": {
    "colab": {
     "base_uri": "https://localhost:8080/"
    },
    "executionInfo": {
     "elapsed": 16391,
     "status": "ok",
     "timestamp": 1717728937977,
     "user": {
      "displayName": "Mrimon (Nemo) Guha",
      "userId": "17002090688478565716"
     },
     "user_tz": 420
    },
    "id": "eBQ2T4MJID9o",
    "outputId": "582cb305-3c5d-418f-b7a1-1866cacb6bb0"
   },
   "outputs": [
    {
     "name": "stderr",
     "output_type": "stream",
     "text": [
      "INFO:XGBoost-PySpark:Running xgboost-2.0.3 on 1 workers with\n",
      "\tbooster params: {'objective': 'reg:squarederror', 'device': 'cpu', 'eval_metric': 'rmse', 'nthread': 1}\n",
      "\ttrain_call_kwargs_params: {'verbose_eval': True, 'num_boost_round': 100}\n",
      "\tdmatrix_kwargs: {'nthread': 1, 'missing': nan}\n",
      "INFO:XGBoost-PySpark:Finished xgboost training!\n"
     ]
    },
    {
     "name": "stdout",
     "output_type": "stream",
     "text": [
      "Mean Squared Error: 770.8353686727582\n",
      "R-squared Score:--0.572660002698689\n"
     ]
    }
   ],
   "source": [
    "\n",
    "\n",
    "# Initialize Spark session\n",
    "spark = SparkSession.builder.appName(\"XGBoostExample\").getOrCreate()\n",
    "\n",
    "selected_features = ['livingAreaSqFt', 'propertyTaxRate', 'numOfAppliances', 'lotSizeSqFt',\n",
    "                     'numOfBathrooms', 'longitude', 'latestPriceSource', 'numOfWindowFeatures',\n",
    "                     'avgSchoolDistance', 'latest_saleyear']\n",
    "\n",
    "# Assuming df_selected is the DataFrame containing your selected features and target\n",
    "df_selected = df.select(selected_features + ['latestPrice'])\n",
    "\n",
    "# Convert selected features to numeric type and handle NaN/infinite values\n",
    "for feature in selected_features:\n",
    "    df_selected = df_selected.withColumn(feature, df_selected[feature].cast(\"float\"))\n",
    "\n",
    "# Convert target to numeric type and handle NaN/infinite values\n",
    "df_selected = df_selected.filter(~df_selected['latestPrice'].isNull() &\n",
    "                                 ~df_selected['latestPrice'].isin([float('nan'), float('inf'), -float('inf')]))\n",
    "df_selected = df_selected.withColumn('latestPrice', df_selected['latestPrice'].cast(\"float\"))\n",
    "\n",
    "# Remove rows with null values in any of the selected features\n",
    "df_selected = df_selected.dropna(subset=selected_features + ['latestPrice'])\n",
    "\n",
    "# Define the features vector\n",
    "assembler = VectorAssembler(inputCols=selected_features, outputCol=\"features\")\n",
    "df_assembled = assembler.transform(df_selected)\n",
    "\n",
    "# Split the data into training and testing sets\n",
    "X_train, X_test = df_assembled.randomSplit([0.8, 0.2], seed=42)\n",
    "\n",
    "# Initialize and train XGBoost with the selected features\n",
    "xgb_regressor = SparkXGBRegressor(label_col=\"latestPrice\", features_col=\"features\", eval_metric='rmse')\n",
    "model = xgb_regressor.fit(X_train)\n",
    "\n",
    "# Make predictions on the test set\n",
    "predictions = model.transform(X_test)\n",
    "\n",
    "# Evaluate the model's performance\n",
    "evaluator = RegressionEvaluator(labelCol=\"latestPrice\", predictionCol=\"prediction\", metricName=\"mse\")\n",
    "mse = evaluator.evaluate(predictions)\n",
    "\n",
    "evaluator = RegressionEvaluator(labelCol=\"latestPrice\", predictionCol=\"prediction\", metricName=\"r2\")\n",
    "r2 = evaluator.evaluate(predictions)\n",
    "\n",
    "print(f\"Mean Squared Error: {mse}\")\n",
    "print(f\"R-squared Score:-{r2}\")\n",
    "\n",
    "# Stop Spark session\n",
    "spark.stop()\n"
   ]
  },
  {
   "cell_type": "markdown",
   "metadata": {
    "id": "gsNV51V6jK8i"
   },
   "source": [
    "An MSE of approximately 770.84 suggests that the model's predictions are, on average, off by that amount squared. An R-squared score of about 0.573 indicates that the model explains approximately 57.3% of the variance in the dependent variable, which is a decent level of explanatory power"
   ]
  }
 ],
 "metadata": {
  "colab": {
   "provenance": [
    {
     "file_id": "1His34XqBWXyyI20c9x1gtcZa0d9bYIKy",
     "timestamp": 1717712491191
    }
   ]
  },
  "kernelspec": {
   "display_name": "Python 3 (ipykernel)",
   "language": "python",
   "name": "python3"
  },
  "language_info": {
   "codemirror_mode": {
    "name": "ipython",
    "version": 3
   },
   "file_extension": ".py",
   "mimetype": "text/x-python",
   "name": "python",
   "nbconvert_exporter": "python",
   "pygments_lexer": "ipython3",
   "version": "3.11.4"
  }
 },
 "nbformat": 4,
 "nbformat_minor": 1
}
